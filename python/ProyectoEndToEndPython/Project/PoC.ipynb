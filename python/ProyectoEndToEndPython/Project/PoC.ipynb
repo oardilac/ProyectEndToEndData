{
 "cells": [
  {
   "cell_type": "code",
   "execution_count": 1,
   "id": "966c88e4-4d27-4af7-bdc2-f39ce4cb9bb6",
   "metadata": {},
   "outputs": [],
   "source": [
    "from process.Extract import Extract\n",
    "from process.Transform import Transform\n",
    "from process.Load import Load\n",
    "import pandas as pd\n",
    "\n",
    "extract = Extract()\n",
    "transform = Transform()\n",
    "load = Load()"
   ]
  },
  {
   "cell_type": "code",
   "execution_count": 2,
   "id": "19430000",
   "metadata": {},
   "outputs": [],
   "source": [
    "df_customers = extract.read_mysql(\"retail_db\",\"customers\")\n",
    "df_orders = extract.read_mysql(\"retail_db\", \"orders\") \n",
    "df_order_items = extract.read_mysql(\"retail_db\", \"order_items\") \n",
    "df_departments = extract.read_mysql(\"retail_db\", \"departments\") \n",
    "df_categories = extract.read_mysql(\"retail_db\",\"categories\") \n",
    "df_products = extract.read_mysql(\"retail_db\",\"products\") "
   ]
  },
  {
   "cell_type": "code",
   "execution_count": 3,
   "id": "b7b1db70",
   "metadata": {},
   "outputs": [],
   "source": [
    "customers_df = extract.read_cloud_storage('chatmine-388722', 'retail', 'customer')\n",
    "products_df = extract.read_cloud_storage('chatmine-388722', 'retail', 'products')"
   ]
  },
  {
   "cell_type": "code",
   "execution_count": 4,
   "id": "0a91b171-86b4-405f-90d7-d6167d564ef4",
   "metadata": {},
   "outputs": [],
   "source": [
    "categories_df = extract.read_mongodb('retail_db', 'categories').drop(['_id'], axis=1)\n",
    "departments_df = extract.read_mongodb('retail_db', 'departments').drop(['_id'], axis=1)"
   ]
  },
  {
   "cell_type": "code",
   "execution_count": 5,
   "id": "ef2d1a89-a1d8-463e-b209-78acf75de70d",
   "metadata": {},
   "outputs": [],
   "source": [
    "load.load_to_cloud_storage('chatmine-388722', 'landing', 'departments', departments_df)\n",
    "load.load_to_cloud_storage('chatmine-388722', 'landing', 'categories', categories_df)\n",
    "load.load_to_cloud_storage('chatmine-388722', 'landing', 'products', products_df)\n",
    "load.load_to_cloud_storage('chatmine-388722', 'landing', 'customers', customers_df)\n",
    "load.load_to_cloud_storage('chatmine-388722', 'landing', 'orders', df_orders)\n",
    "load.load_to_cloud_storage('chatmine-388722', 'landing', 'order_items', df_order_items)"
   ]
  },
  {
   "cell_type": "code",
   "execution_count": 6,
   "id": "74f587be-f9e7-4eb2-8a16-0424161e2388",
   "metadata": {},
   "outputs": [],
   "source": [
    "departments_landing = extract.read_cloud_storage('chatmine-388722', 'landing', 'departments')\n",
    "categories_landing = extract.read_cloud_storage('chatmine-388722', 'landing', 'categories')\n",
    "products_landing = extract.read_cloud_storage('chatmine-388722', 'landing', 'products')\n",
    "customers_landing = extract.read_cloud_storage('chatmine-388722', 'landing', 'customers')\n",
    "orders_landing = extract.read_cloud_storage('chatmine-388722', 'landing', 'orders')\n",
    "order_items_landing = extract.read_cloud_storage('chatmine-388722', 'landing', 'order_items')"
   ]
  },
  {
   "cell_type": "code",
   "execution_count": 7,
   "id": "6ebf38aa-dba3-4501-98b6-c150121e7e82",
   "metadata": {},
   "outputs": [],
   "source": [
    "df_enunciado1 = transform.enunciado1(df_customers, df_orders, df_order_items)\n",
    "df_enunciado2 = transform.enunciado2(df_order_items, df_products,df_categories)\n",
    "df_enunciado3 = transform.enunciado3(df_customers, df_orders, df_order_items, df_products, df_categories)"
   ]
  },
  {
   "cell_type": "code",
   "execution_count": 8,
   "id": "455531fe-e100-466b-961f-9e9fbafdfd3c",
   "metadata": {},
   "outputs": [],
   "source": [
    "load.load_to_cloud_storage('chatmine-388722', 'gold', 'e1_venta_mes', df_enunciado1)\n",
    "load.load_to_cloud_storage('chatmine-388722', 'gold', 'e2_cant_vendida_productos', df_enunciado2)\n",
    "load.load_to_cloud_storage('chatmine-388722', 'gold', 'e3_ventas_ciudades', df_enunciado3)"
   ]
  },
  {
   "cell_type": "code",
   "execution_count": 9,
   "id": "20a12a36-c898-4ca9-9117-1db28c2eda08",
   "metadata": {},
   "outputs": [],
   "source": [
    "load.load_to_mysql('bi', 'enun1', df_enunciado1)\n",
    "load.load_to_mysql('bi', 'enun2', df_enunciado2)\n",
    "load.load_to_mysql('bi', 'enun3', df_enunciado3)"
   ]
  }
 ],
 "metadata": {
  "kernelspec": {
   "display_name": "Python 3 (ipykernel)",
   "language": "python",
   "name": "python3"
  },
  "language_info": {
   "codemirror_mode": {
    "name": "ipython",
    "version": 3
   },
   "file_extension": ".py",
   "mimetype": "text/x-python",
   "name": "python",
   "nbconvert_exporter": "python",
   "pygments_lexer": "ipython3",
   "version": "3.9.17"
  }
 },
 "nbformat": 4,
 "nbformat_minor": 5
}
